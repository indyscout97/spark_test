{
 "cells": [
  {
   "cell_type": "markdown",
   "metadata": {},
   "source": [
    "# read text from file and get word count"
   ]
  },
  {
   "cell_type": "code",
   "execution_count": null,
   "metadata": {},
   "outputs": [],
   "source": [
    "def get_word_counts(data_path):\n",
    "    \"\"\"\n",
    "    return sorted (word, count) list, sort by count\n",
    "    \"\"\"\n",
    "    word_count_dict = {}\n",
    "\n",
    "    with open(data_path, 'r') as f:\n",
    "        for line in f:\n",
    "            words = line.strip().split()\n",
    "            for word in words:\n",
    "                if word not in word_count_dict:\n",
    "                    word_count_dict[word] = 0\n",
    "                word_count_dict[word] += 1\n",
    "    \n",
    "    sorted_word_counts = sorted(word_count_dict.items(), key = lambda kv:kv[1], reverse = True)\n",
    "    return sorted_word_counts\n",
    "\n",
    "input_data_path = './big_data_intro.txt'\n",
    "word_counts = get_word_counts(input_data_path)\n",
    "\n",
    "for word, count in word_counts[:100]:\n",
    "    print(word, count)"
   ]
  },
  {
   "cell_type": "code",
   "execution_count": null,
   "metadata": {},
   "outputs": [],
   "source": []
  }
 ],
 "metadata": {
  "kernelspec": {
   "display_name": "Python 3",
   "language": "python",
   "name": "python3"
  },
  "language_info": {
   "codemirror_mode": {
    "name": "ipython",
    "version": 2
   },
   "file_extension": ".py",
   "mimetype": "text/x-python",
   "name": "python",
   "nbconvert_exporter": "python",
   "pygments_lexer": "ipython2",
   "version": "2.7.10"
  }
 },
 "nbformat": 4,
 "nbformat_minor": 2
}